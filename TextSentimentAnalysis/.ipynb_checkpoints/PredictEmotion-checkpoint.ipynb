{
 "cells": [
  {
   "cell_type": "code",
   "execution_count": 1,
   "metadata": {},
   "outputs": [],
   "source": [
    "import pandas as pd\n",
    "import numpy as np\n",
    "import speech_recognition as sr   \n",
    "import time \n",
    "import pickle"
   ]
  },
  {
   "cell_type": "code",
   "execution_count": 2,
   "metadata": {},
   "outputs": [],
   "source": [
    "import pickle\n",
    "import os\n",
    "import numpy as np\n",
    "\n",
    "class CustomModelPrediction(object):\n",
    "\n",
    "  def __init__(self, model, processor):\n",
    "    self._model = model\n",
    "    self._processor = processor\n",
    "  \n",
    "  def predict(self, instances, **kwargs):\n",
    "    preprocessed_data = self._processor.transform_text(instances)\n",
    "    predictions = self._model.predict(preprocessed_data)\n",
    "    return predictions.tolist()\n",
    "\n",
    "  @classmethod\n",
    "  def from_path(cls, model_dir):\n",
    "    import tensorflow.keras as keras\n",
    "    model = keras.models.load_model(\n",
    "      os.path.join(model_dir,'sentiment_model.h5'))\n",
    "    with open(os.path.join(model_dir, 'processor_state.pkl'), 'rb') as f:\n",
    "      processor = pickle.load(f)\n",
    "\n",
    "    return cls(model, processor)"
   ]
  },
  {
   "cell_type": "code",
   "execution_count": 3,
   "metadata": {},
   "outputs": [],
   "source": [
    "from tensorflow.keras.preprocessing import text\n",
    "\n",
    "class TextPreprocessor(object):\n",
    "  def __init__(self, vocab_size):\n",
    "    self._vocab_size = vocab_size\n",
    "    self._tokenizer = None\n",
    "  \n",
    "  def create_tokenizer(self, text_list):\n",
    "    tokenizer = text.Tokenizer(num_words=self._vocab_size)\n",
    "    tokenizer.fit_on_texts(text_list)\n",
    "    self._tokenizer = tokenizer\n",
    "\n",
    "  def transform_text(self, text_list):\n",
    "    text_matrix = self._tokenizer.texts_to_matrix(text_list)\n",
    "    return text_matrix"
   ]
  },
  {
   "cell_type": "code",
   "execution_count": 4,
   "metadata": {},
   "outputs": [
    {
     "name": "stdout",
     "output_type": "stream",
     "text": [
      "Getting an idea of your background noise\n",
      "Speak now\n",
      "hello hello hello\n"
     ]
    }
   ],
   "source": [
    "# #using speech_recognition library in python for converting speech to text\n",
    "r = sr.Recognizer()  \n",
    "try: \n",
    "# use the microphone as source for input. \n",
    "    with sr.Microphone() as source: \n",
    "        #taking 1 second to recognize the background noise for clearer and more effective audio to text translation \n",
    "        r.adjust_for_ambient_noise(source, duration=1) \n",
    "        print(\"Getting an idea of your background noise\")\n",
    "        time.sleep(1.1)\n",
    "        #listens for the user's input  \n",
    "        print(\"Speak now\")\n",
    "        audio = r.listen(source)        \n",
    "        # Using ggogle to recognize audio \n",
    "        text = r.recognize_google(audio) \n",
    "        # MyText = r.recognize_sphinx(audio) \n",
    "        text = text.lower() \n",
    "        print(text)  \n",
    "except sr.RequestError as e: \n",
    "        text=\"\"\n",
    "        print(\"Error\") \n",
    "except sr.UnknownValueError: \n",
    "        text=\"\"\n",
    "        print(\"unknown error\")"
   ]
  },
  {
   "cell_type": "code",
   "execution_count": 5,
   "metadata": {},
   "outputs": [],
   "source": [
    "test_requests=[\n",
    "    text\n",
    "]"
   ]
  },
  {
   "cell_type": "code",
   "execution_count": 6,
   "metadata": {},
   "outputs": [
    {
     "ename": "NameError",
     "evalue": "name 'MultiLabelBinarizer' is not defined",
     "output_type": "error",
     "traceback": [
      "\u001b[1;31m---------------------------------------------------------------------------\u001b[0m",
      "\u001b[1;31mNameError\u001b[0m                                 Traceback (most recent call last)",
      "\u001b[1;32m<ipython-input-6-63c53e7e6f8a>\u001b[0m in \u001b[0;36m<module>\u001b[1;34m\u001b[0m\n\u001b[1;32m----> 1\u001b[1;33m \u001b[0mtag_encoder\u001b[0m \u001b[1;33m=\u001b[0m \u001b[0mMultiLabelBinarizer\u001b[0m\u001b[1;33m(\u001b[0m\u001b[1;33m)\u001b[0m\u001b[1;33m\u001b[0m\u001b[1;33m\u001b[0m\u001b[0m\n\u001b[0m\u001b[0;32m      2\u001b[0m \u001b[1;31m# tags_encoded = tag_encoder.fit_transform(sentiments_encoded)\u001b[0m\u001b[1;33m\u001b[0m\u001b[1;33m\u001b[0m\u001b[1;33m\u001b[0m\u001b[0m\n\u001b[0;32m      3\u001b[0m \u001b[1;31m# num_tags = len(tags_encoded[0])\u001b[0m\u001b[1;33m\u001b[0m\u001b[1;33m\u001b[0m\u001b[1;33m\u001b[0m\u001b[0m\n\u001b[0;32m      4\u001b[0m tag_encoder.classes_=['anger','fear','happiness','happy','love','neutral' ,'relief' ,'sadness',\n\u001b[0;32m      5\u001b[0m  'surprise' ,'worry']\n",
      "\u001b[1;31mNameError\u001b[0m: name 'MultiLabelBinarizer' is not defined"
     ]
    }
   ],
   "source": [
    "\n",
    "from sklearn.preprocessing import MultiLabelBinarizer\n",
    "tag_encoder = MultiLabelBinarizer()\n",
    "# tags_encoded = tag_encoder.fit_transform(sentiments_encoded)\n",
    "# num_tags = len(tags_encoded[0])\n",
    "tag_encoder.classes_=['anger','fear','happiness','happy','love','neutral' ,'relief' ,'sadness',\n",
    " 'surprise' ,'worry']\n",
    "print(tag_encoder.classes_)\n",
    "# print(tags_encoded[0])"
   ]
  },
  {
   "cell_type": "code",
   "execution_count": null,
   "metadata": {},
   "outputs": [],
   "source": [
    "# Make a prediction on our local model\n",
    "# from model_prediction import CustomModelPrediction\n",
    "def predict_emotion():\n",
    "    classifier = CustomModelPrediction.from_path('.')\n",
    "    results = classifier.predict(test_requests)\n",
    "    emotion=[]\n",
    "    for i in range(len(results)): \n",
    "        for idx,val in enumerate(results[i]): \n",
    "            if val > 0.1: \n",
    "                 emotion.append([val,tag_encoder.classes_[idx]]) \n",
    "    emotion.sort(reverse=True)\n",
    "    return emotion[:2]"
   ]
  },
  {
   "cell_type": "code",
   "execution_count": null,
   "metadata": {},
   "outputs": [],
   "source": [
    "def find():\n",
    "    emotion1,emotion2=predict_emotion()\n",
    "    emotion1=emotion1[1]\n",
    "    emotion2=emotion2[1] \n",
    "    print(emotion1,emotion2) "
   ]
  },
  {
   "cell_type": "code",
   "execution_count": null,
   "metadata": {},
   "outputs": [],
   "source": [
    "find()"
   ]
  },
  {
   "cell_type": "code",
   "execution_count": null,
   "metadata": {},
   "outputs": [],
   "source": []
  },
  {
   "cell_type": "code",
   "execution_count": null,
   "metadata": {},
   "outputs": [],
   "source": []
  }
 ],
 "metadata": {
  "kernelspec": {
   "display_name": "Python 3",
   "language": "python",
   "name": "python3"
  },
  "language_info": {
   "codemirror_mode": {
    "name": "ipython",
    "version": 3
   },
   "file_extension": ".py",
   "mimetype": "text/x-python",
   "name": "python",
   "nbconvert_exporter": "python",
   "pygments_lexer": "ipython3",
   "version": "3.8.5"
  }
 },
 "nbformat": 4,
 "nbformat_minor": 4
}
